{
 "cells": [
  {
   "cell_type": "markdown",
   "metadata": {},
   "source": [
    "# Model Training for Movie Recommendation System\n",
    "\n",
    "This notebook covers:\n",
    "1. Collaborative Filtering models\n",
    "2. Content-based filtering\n",
    "3. Hybrid approaches\n",
    "4. Model evaluation and comparison"
   ]
  },
  {
   "cell_type": "code",
   "execution_count": null,
   "metadata": {},
   "outputs": [],
   "source": [
    "import pandas as pd\n",
    "import numpy as np\n",
    "from sklearn.model_selection import train_test_split\n",
    "from sklearn.metrics import mean_squared_error, mean_absolute_error\n",
    "from sklearn.decomposition import TruncatedSVD\n",
    "from sklearn.feature_extraction.text import TfidfVectorizer\n",
    "from sklearn.metrics.pairwise import cosine_similarity\n",
    "import pickle\n",
    "import sys\n",
    "sys.path.append('../src')\n",
    "\n",
    "# Custom modules\n",
    "from models.collaborative_filtering import CollaborativeFiltering\n",
    "from models.content_based import ContentBasedFiltering\n",
    "from models.hybrid import HybridRecommender\n",
    "from models.evaluation import ModelEvaluator"
   ]
  },
  {
   "cell_type": "markdown",
   "metadata": {},
   "source": [
    "## 1. Load Processed Data"
   ]
  },
  {
   "cell_type": "code",
   "execution_count": null,
   "metadata": {},
   "outputs": [],
   "source": [
    "# Load processed data\n",
    "train_data = pd.read_csv('../data/processed/train_data.csv')\n",
    "val_data = pd.read_csv('../data/processed/val_data.csv')\n",
    "user_features = pd.read_csv('../data/processed/user_features.csv')\n",
    "movie_features = pd.read_csv('../data/processed/movie_features.csv')\n",
    "\n",
    "# Load user-item matrix\n",
    "with open('../data/processed/user_item_matrix.pkl', 'rb') as f:\n",
    "    user_item_matrix = pickle.load(f)\n",
    "\n",
    "print(\"Data loaded successfully!\")"
   ]
  },
  {
   "cell_type": "markdown",
   "metadata": {},
   "source": [
    "## 2. Collaborative Filtering Models"
   ]
  },
  {
   "cell_type": "code",
   "execution_count": null,
   "metadata": {},
   "outputs": [],
   "source": [
    "# Initialize collaborative filtering model\n",
    "cf_model = CollaborativeFiltering()\n",
    "\n",
    "# Train matrix factorization model\n",
    "cf_model.train_matrix_factorization(train_data)\n",
    "\n",
    "# Train user-based collaborative filtering\n",
    "cf_model.train_user_based(user_item_matrix)\n",
    "\n",
    "# Train item-based collaborative filtering\n",
    "cf_model.train_item_based(user_item_matrix)\n",
    "\n",
    "print(\"Collaborative filtering models trained!\")"
   ]
  },
  {
   "cell_type": "markdown",
   "metadata": {},
   "source": [
    "## 3. Content-Based Filtering"
   ]
  },
  {
   "cell_type": "code",
   "execution_count": null,
   "metadata": {},
   "outputs": [],
   "source": [
    "# Initialize content-based filtering model\n",
    "cb_model = ContentBasedFiltering()\n",
    "\n",
    "# Train content-based model\n",
    "cb_model.train(movie_features)\n",
    "\n",
    "print(\"Content-based filtering model trained!\")"
   ]
  },
  {
   "cell_type": "markdown",
   "metadata": {},
   "source": [
    "## 4. Hybrid Model"
   ]
  },
  {
   "cell_type": "code",
   "execution_count": null,
   "metadata": {},
   "outputs": [],
   "source": [
    "# Initialize hybrid recommender\n",
    "hybrid_model = HybridRecommender(cf_model, cb_model)\n",
    "\n",
    "# Train hybrid model\n",
    "hybrid_model.train(train_data, movie_features, user_features)\n",
    "\n",
    "print(\"Hybrid model trained!\")"
   ]
  },
  {
   "cell_type": "markdown",
   "metadata": {},
   "source": [
    "## 5. Model Evaluation"
   ]
  },
  {
   "cell_type": "code",
   "execution_count": null,
   "metadata": {},
   "outputs": [],
   "source": [
    "# Initialize model evaluator\n",
    "evaluator = ModelEvaluator()\n",
    "\n",
    "# Evaluate models\n",
    "models = {\n",
    "    'Collaborative Filtering': cf_model,\n",
    "    'Content-Based': cb_model,\n",
    "    'Hybrid': hybrid_model\n",
    "}\n",
    "\n",
    "results = {}\n",
    "for name, model in models.items():\n",
    "    rmse, mae, precision, recall = evaluator.evaluate(model, val_data)\n",
    "    results[name] = {\n",
    "        'RMSE': rmse,\n",
    "        'MAE': mae,\n",
    "        'Precision@10': precision,\n",
    "        'Recall@10': recall\n",
    "    }\n",
    "\n",
    "# Display results\n",
    "results_df = pd.DataFrame(results).T\n",
    "print(\"Model Evaluation Results:\")\n",
    "print(results_df)"
   ]
  },
  {
   "cell_type": "markdown",
   "metadata": {},
   "source": [
    "## 6. Save Trained Models"
   ]
  },
  {
   "cell_type": "code",
   "execution_count": null,
   "metadata": {},
   "outputs": [],
   "source": [
    "# Save trained models\n",
    "with open('../src/models/trained/cf_model.pkl', 'wb') as f:\n",
    "    pickle.dump(cf_model, f)\n",
    "\n",
    "with open('../src/models/trained/cb_model.pkl', 'wb') as f:\n",
    "    pickle.dump(cb_model, f)\n",
    "\n",
    "with open('../src/models/trained/hybrid_model.pkl', 'wb') as f:\n",
    "    pickle.dump(hybrid_model, f)\n",
    "\n",
    "print(\"Models saved successfully!\")"
   ]
  },
  {
   "cell_type": "markdown",
   "metadata": {},
   "source": [
    "## 7. Generate Sample Recommendations"
   ]
  },
  {
   "cell_type": "code",
   "execution_count": null,
   "metadata": {},
   "outputs": [],
   "source": [
    "# Generate recommendations for a sample user\n",
    "sample_user_id = 1\n",
    "recommendations = hybrid_model.recommend(sample_user_id, n_recommendations=10)\n",
    "\n",
    "print(f\"Top 10 recommendations for user {sample_user_id}:\")\n",
    "print(recommendations)"
   ]
  }
 ],
 "metadata": {
  "kernelspec": {
   "display_name": "Python 3",
   "language": "python",
   "name": "python3"
  },
  "language_info": {
   "codemirror_mode": {
    "name": "ipython",
    "version": 3
   },
   "file_extension": ".py",
   "mimetype": "text/x-python",
   "name": "python",
   "nbconvert_exporter": "python",
   "pygments_lexer": "ipython3",
   "version": "3.9.0"
  }
 },
 "nbformat": 4,
 "nbformat_minor": 4
}