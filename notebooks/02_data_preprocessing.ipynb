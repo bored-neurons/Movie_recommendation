{
 "cells": [
  {
   "cell_type": "markdown",
   "metadata": {},
   "source": [
    "# Data Preprocessing for Movie Recommendation System\n",
    "\n",
    "This notebook covers:\n",
    "1. Data cleaning and validation\n",
    "2. Feature engineering\n",
    "3. User-item interaction matrix creation\n",
    "4. Data splitting for training/validation"
   ]
  },
  {
   "cell_type": "code",
   "execution_count": null,
   "metadata": {},
   "outputs": [],
   "source": [
    "import pandas as pd\n",
    "import numpy as np\n",
    "from sklearn.model_selection import train_test_split\n",
    "from sklearn.preprocessing import StandardScaler, LabelEncoder\n",
    "from scipy.sparse import csr_matrix\n",
    "import pickle\n",
    "import sys\n",
    "sys.path.append('../src')\n",
    "\n",
    "# Custom modules\n",
    "from data.preprocessing import DataPreprocessor\n",
    "from features.feature_engineering import FeatureEngineer"
   ]
  },
  {
   "cell_type": "markdown",
   "metadata": {},
   "source": [
    "## 1. Load Raw Data"
   ]
  },
  {
   "cell_type": "code",
   "execution_count": null,
   "metadata": {},
   "outputs": [],
   "source": [
    "# Load raw data\n",
    "movies_df = pd.read_csv('../data/raw/movies.csv')\n",
    "ratings_df = pd.read_csv('../data/raw/ratings.csv')\n",
    "tags_df = pd.read_csv('../data/raw/tags.csv')\n",
    "\n",
    "print(f\"Movies: {movies_df.shape}\")\n",
    "print(f\"Ratings: {ratings_df.shape}\")\n",
    "print(f\"Tags: {tags_df.shape}\")"
   ]
  },
  {
   "cell_type": "markdown",
   "metadata": {},
   "source": [
    "## 2. Data Cleaning"
   ]
  },
  {
   "cell_type": "code",
   "execution_count": null,
   "metadata": {},
   "outputs": [],
   "source": [
    "# Initialize preprocessor\n",
    "preprocessor = DataPreprocessor()\n",
    "\n",
    "# Clean movies data\n",
    "movies_clean = preprocessor.clean_movies(movies_df)\n",
    "\n",
    "# Clean ratings data\n",
    "ratings_clean = preprocessor.clean_ratings(ratings_df)\n",
    "\n",
    "# Clean tags data\n",
    "tags_clean = preprocessor.clean_tags(tags_df)"
   ]
  },
  {
   "cell_type": "markdown",
   "metadata": {},
   "source": [
    "## 3. Feature Engineering"
   ]
  },
  {
   "cell_type": "code",
   "execution_count": null,
   "metadata": {},
   "outputs": [],
   "source": [
    "# Initialize feature engineer\n",
    "feature_engineer = FeatureEngineer()\n",
    "\n",
    "# Create user features\n",
    "user_features = feature_engineer.create_user_features(ratings_clean)\n",
    "\n",
    "# Create movie features\n",
    "movie_features = feature_engineer.create_movie_features(movies_clean, ratings_clean)\n",
    "\n",
    "# Create interaction features\n",
    "interaction_features = feature_engineer.create_interaction_features(ratings_clean)"
   ]
  },
  {
   "cell_type": "markdown",
   "metadata": {},
   "source": [
    "## 4. Create User-Item Interaction Matrix"
   ]
  },
  {
   "cell_type": "code",
   "execution_count": null,
   "metadata": {},
   "outputs": [],
   "source": [
    "# Create user-item interaction matrix\n",
    "user_item_matrix = ratings_clean.pivot_table(\n",
    "    index='userId', \n",
    "    columns='movieId', \n",
    "    values='rating',\n",
    "    fill_value=0\n",
    ")\n",
    "\n",
    "# Convert to sparse matrix for efficiency\n",
    "user_item_sparse = csr_matrix(user_item_matrix.values)\n",
    "\n",
    "print(f\"User-item matrix shape: {user_item_matrix.shape}\")\n",
    "print(f\"Sparsity: {1 - (user_item_sparse.nnz / (user_item_sparse.shape[0] * user_item_sparse.shape[1])):.4f}\")"
   ]
  },
  {
   "cell_type": "markdown",
   "metadata": {},
   "source": [
    "## 5. Data Splitting"
   ]
  },
  {
   "cell_type": "code",
   "execution_count": null,
   "metadata": {},
   "outputs": [],
   "source": [
    "# Split data for training and validation\n",
    "train_data, val_data = train_test_split(\n",
    "    ratings_clean, \n",
    "    test_size=0.2, \n",
    "    random_state=42,\n",
    "    stratify=ratings_clean['rating']\n",
    ")\n",
    "\n",
    "print(f\"Training data: {train_data.shape}\")\n",
    "print(f\"Validation data: {val_data.shape}\")"
   ]
  },
  {
   "cell_type": "markdown",
   "metadata": {},
   "source": [
    "## 6. Save Processed Data"
   ]
  },
  {
   "cell_type": "code",
   "execution_count": null,
   "metadata": {},
   "outputs": [],
   "source": [
    "# Save processed data\n",
    "train_data.to_csv('../data/processed/train_data.csv', index=False)\n",
    "val_data.to_csv('../data/processed/val_data.csv', index=False)\n",
    "user_features.to_csv('../data/processed/user_features.csv', index=False)\n",
    "movie_features.to_csv('../data/processed/movie_features.csv', index=False)\n",
    "\n",
    "# Save user-item matrix\n",
    "with open('../data/processed/user_item_matrix.pkl', 'wb') as f:\n",
    "    pickle.dump(user_item_matrix, f)\n",
    "\n",
    "print(\"Processed data saved successfully!\")"
   ]
  }
 ],
 "metadata": {
  "kernelspec": {
   "display_name": "Python 3",
   "language": "python",
   "name": "python3"
  },
  "language_info": {
   "codemirror_mode": {
    "name": "ipython",
    "version": 3
   },
   "file_extension": ".py",
   "mimetype": "text/x-python",
   "name": "python",
   "nbconvert_exporter": "python",
   "pygments_lexer": "ipython3",
   "version": "3.9.0"
  }
 },
 "nbformat": 4,
 "nbformat_minor": 4
}